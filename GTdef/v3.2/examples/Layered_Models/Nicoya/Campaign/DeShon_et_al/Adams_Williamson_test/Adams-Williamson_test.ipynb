{
 "cells": [
  {
   "cell_type": "code",
   "execution_count": 2,
   "metadata": {},
   "outputs": [],
   "source": [
    "# constant\n",
    "G=6.67e-11 # Nm^2/Kg^2   Universal Gravitational Constant\n",
    "#surface values \n",
    "rho_0=3000 # [kg/m^3]  density at surface\n",
    "M_0=6e24 # [kg] earth mass at surface\n",
    "r_0=6371e3  # [m] mean radius of earth"
   ]
  },
  {
   "cell_type": "code",
   "execution_count": 3,
   "metadata": {},
   "outputs": [],
   "source": [
    "import numpy as np\n",
    "# Table 1 from Deshon et al (GJI, 2006)\n",
    "depths=np.array([0, 5, 9, 13, 16, 20, 25, 30, 35, 40, 50, 65, 90]) \n",
    "depths=depths*-1000 # [m] negative(-) downward \n",
    "Vp=np.array([5.35, 6.12, 6.12, 6.28, 6.46, 6.72, 7.01, 7.39, 7.55, 8.14, 8.14, 8.26, 8.26])\n",
    "Vp=Vp*1000 # m/s\n",
    "Vs= Vp/1.78  # specific to DeShon Paper.\n",
    "phi = Vp**2 - 4/3 * Vs**2\n",
    "#print(phi)"
   ]
  },
  {
   "cell_type": "code",
   "execution_count": 4,
   "metadata": {},
   "outputs": [],
   "source": [
    "rho=np.zeros(len(depths))\n",
    "M=np.zeros(len(depths))\n",
    "r=np.zeros(len(depths))\n",
    "r[0]=r_0\n",
    "M[0]=M_0\n",
    "rho[0]=rho_0"
   ]
  },
  {
   "cell_type": "code",
   "execution_count": 6,
   "metadata": {},
   "outputs": [
    {
     "name": "stdout",
     "output_type": "stream",
     "text": [
      "Depth= 0\n",
      "Depth= -5000\n",
      "Depth= -9000\n",
      "Depth= -13000\n",
      "Depth= -16000\n",
      "Depth= -20000\n",
      "Depth= -25000\n",
      "Depth= -30000\n",
      "Depth= -35000\n",
      "Depth= -40000\n",
      "Depth= -50000\n",
      "Depth= -65000\n",
      "Depth= -90000\n"
     ]
    }
   ],
   "source": [
    "i=0\n",
    "for depth in depths:\n",
    "    print('Depth= '+str(depth))\n",
    "    try:\n",
    "        dr=depths[i+1]-depths[i]\n",
    "    except:\n",
    "        break\n",
    "    d_rho = -G*M[i]*rho[i]/(r[i]**2 * phi[i]) * dr\n",
    "    #print(depths[i]/-100,Vp[i]/1000, Vs[i]/1000, rho[i])\n",
    "    i=i+1\n",
    "    r[i]=r[i-1]+dr\n",
    "    rho[i] = rho[i-1] + d_rho\n",
    "    M[i]=4/3*(r[i-1]**3-r[i]**3)*rho[i]"
   ]
  },
  {
   "cell_type": "markdown",
   "metadata": {},
   "source": [
    "# Better method, iterating over constant and interpolated dz"
   ]
  },
  {
   "cell_type": "code",
   "execution_count": 12,
   "metadata": {},
   "outputs": [
    {
     "name": "stdout",
     "output_type": "stream",
     "text": [
      "5000 2701.517249300621\n",
      "9000 2702.954287247468\n",
      "13000 2704.317332373992\n",
      "16000 2705.6119761462533\n",
      "20000 2706.8432600753677\n",
      "25000 2708.0754913812643\n",
      "30000 2709.3086710299804\n",
      "35000 2710.5427999887634\n",
      "40000 2711.777879226073\n",
      "50000 2712.9979094856153\n",
      "65000 2714.203168896998\n",
      "90000 2715.3939287532653\n"
     ]
    }
   ],
   "source": [
    "from scipy.interpolate import interp1d\n",
    "import numpy as np\n",
    "\n",
    "# constant\n",
    "G=6.67e-11 # Nm^2/Kg^2   Universal Gravitational Constant\n",
    "#surface values \n",
    "rho_0=2700 # [kg/m^3]  density at surface\n",
    "M_0=6e24 # [kg] earth mass at surface\n",
    "r_0=6371e3  # [m] mean radius of earth\n",
    "\n",
    "dr=1000\n",
    "\n",
    "# Table 1 from Deshon et al (GJI, 2006)\n",
    "depths=np.array([0, 5, 9, 13, 16, 20, 25, 30, 35, 40, 50, 65, 90]) \n",
    "depths=depths*1000 # [m] negative(-) downward \n",
    "Vp=np.array([5.35, 6.12, 6.12, 6.28, 6.46, 6.72, 7.01, 7.39, 7.55, 8.14, 8.14, 8.26, 8.26])\n",
    "Vp=Vp*1000 # m/s\n",
    "\n",
    "d=range(depths[0],depths[-1],dr)\n",
    "Vp_int=interp1d(depths,Vp, kind='linear')\n",
    "Vp_r=Vp_int(d)\n",
    "Vs_r= Vp_r/1.78  # specific to DeShon Paper.\n",
    "phi = Vp_r**2 - 4/3 * Vs_r**2\n",
    "\n",
    "rho=np.zeros(len(d))\n",
    "r=np.array(d)\n",
    "r+=int(-r_0)\n",
    "r=-r\n",
    "\n",
    "M=M_0\n",
    "rho[0]=rho_0\n",
    "\n",
    "dr=-dr # origanally positive for stepping\n",
    "i=0\n",
    "#print(i,r[i],Vp_r[i],Vs_r[i],rho[i])\n",
    "for ri in r:\n",
    "    i=i+1\n",
    "    try:\n",
    "        M=M-4/3*(r[i-1]**3-ri**3)*rho[i-1]\n",
    "        d_rho = -G*M*rho[i-1]/(ri**2 * phi[i])*dr  \n",
    "        rho[i]=rho[i-1]+d_rho\n",
    "        #print(d[i],r[i],Vs_r[i],Vp_r[i],rho[i])\n",
    "        print(depths[i],rho[i])\n",
    "    except:\n",
    "        break"
   ]
  },
  {
   "cell_type": "code",
   "execution_count": 95,
   "metadata": {},
   "outputs": [
    {
     "data": {
      "image/png": "[encoded data removed]",
      "text/plain": [
       "<Figure size 432x288 with 1 Axes>"
      ]
     },
     "metadata": {
      "needs_background": "light"
     },
     "output_type": "display_data"
    }
   ],
   "source": [
    "import matplotlib.pyplot as plt\n",
    "d_km=np.multiply(d,1/1000)\n",
    "plt.plot(d_km,rho,'r-')\n",
    "plt.ylabel('Density [kg/m^3]')\n",
    "plt.xlabel('Depth [km]')\n",
    "plt.show();"
   ]
  },
  {
   "cell_type": "code",
   "execution_count": 66,
   "metadata": {},
   "outputs": [
    {
     "name": "stdout",
     "output_type": "stream",
     "text": [
      "6359000\n"
     ]
    }
   ],
   "source": [
    "print(ri)"
   ]
  },
  {
   "cell_type": "code",
   "execution_count": 2,
   "metadata": {},
   "outputs": [
    {
     "ename": "NameError",
     "evalue": "name 'rho' is not defined",
     "output_type": "error",
     "traceback": [
      "\u001b[0;31m---------------------------------------------------------------------------\u001b[0m",
      "\u001b[0;31mNameError\u001b[0m                                 Traceback (most recent call last)",
      "\u001b[0;32m<ipython-input-2-ae478bf9963a>\u001b[0m in \u001b[0;36m<module>\u001b[0;34m\u001b[0m\n\u001b[0;32m----> 1\u001b[0;31m \u001b[0mprint\u001b[0m\u001b[0;34m(\u001b[0m\u001b[0mrho\u001b[0m\u001b[0;34m[\u001b[0m\u001b[0mi\u001b[0m\u001b[0;34m]\u001b[0m\u001b[0;34m)\u001b[0m\u001b[0;34m\u001b[0m\u001b[0;34m\u001b[0m\u001b[0m\n\u001b[0m",
      "\u001b[0;31mNameError\u001b[0m: name 'rho' is not defined"
     ]
    }
   ],
   "source": [
    "\n"
   ]
  },
  {
   "cell_type": "code",
   "execution_count": null,
   "metadata": {},
   "outputs": [],
   "source": []
  }
 ],
 "metadata": {
  "kernelspec": {
   "display_name": "Python 3",
   "language": "python",
   "name": "python3"
  },
  "language_info": {
   "codemirror_mode": {
    "name": "ipython",
    "version": 3
   },
   "file_extension": ".py",
   "mimetype": "text/x-python",
   "name": "python",
   "nbconvert_exporter": "python",
   "pygments_lexer": "ipython3",
   "version": "3.7.6"
  }
 },
 "nbformat": 4,
 "nbformat_minor": 4
}
